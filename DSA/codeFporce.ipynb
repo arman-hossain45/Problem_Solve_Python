{
 "cells": [
  {
   "cell_type": "code",
   "execution_count": null,
   "id": "1902e67e",
   "metadata": {},
   "outputs": [],
   "source": [
    "\n",
    "n=int(input())\n",
    "inp=input()\n",
    "numbers=inp.split()\n",
    "print(numbers)\n",
    "\n",
    "for i in range(n)\n",
    "    x= int(numbers[i])\n",
    "\n",
    "\n",
    "    if x>0:\n",
    "        pos=pos+1\n",
    "\n",
    "    if x<0:\n",
    "        neg=neg+1\n",
    "\n",
    "    if x%2==0:\n",
    "        even=even+1\n",
    "\n",
    "    else:\n",
    "        odd=odd+1\n",
    "\n",
    "\n",
    "    print('Even:',even)\n",
    "    print('odd',odd)\n",
    "    print('pos:',pos)\n",
    "    print('neg',neg)\n",
    "\n",
    "\n"
   ]
  },
  {
   "cell_type": "code",
   "execution_count": null,
   "id": "c549a0c6",
   "metadata": {},
   "outputs": [],
   "source": []
  }
 ],
 "metadata": {
  "kernelspec": {
   "display_name": "base",
   "language": "python",
   "name": "python3"
  },
  "language_info": {
   "codemirror_mode": {
    "name": "ipython",
    "version": 3
   },
   "file_extension": ".py",
   "mimetype": "text/x-python",
   "name": "python",
   "nbconvert_exporter": "python",
   "pygments_lexer": "ipython3",
   "version": "3.13.5"
  }
 },
 "nbformat": 4,
 "nbformat_minor": 5
}
